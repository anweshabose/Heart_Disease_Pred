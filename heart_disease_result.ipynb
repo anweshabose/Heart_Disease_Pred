{
 "cells": [
  {
   "cell_type": "markdown",
   "id": "bc784bea",
   "metadata": {},
   "source": [
    "### RESULT OF heart_disease.py FILE"
   ]
  },
  {
   "cell_type": "markdown",
   "id": "59911d54",
   "metadata": {},
   "source": [
    "When we run heart_disease.py in the terminal, we will get to see some these sort of reasult."
   ]
  },
  {
   "cell_type": "code",
   "execution_count": 2,
   "id": "25d8e856",
   "metadata": {},
   "outputs": [],
   "source": [
    "# Please don't run the code below. That is the result of Heart disease"
   ]
  },
  {
   "cell_type": "code",
   "execution_count": null,
   "id": "68200e37",
   "metadata": {},
   "outputs": [],
   "source": [
    "Dataset Sample:\n",
    "   age  sex  cp  trestbps  chol  fbs  restecg  thalach  exang  oldpeak  slope  ca  thal  target\n",
    "0   52    1   0       125   212    0        1      168      0      1.0      2   2     3       0\n",
    "1   53    1   0       140   203    1        0      155      1      3.1      0   0     3       0\n",
    "2   70    1   0       145   174    0        1      125      1      2.6      0   0     3       0\n",
    "3   61    1   0       148   203    0        1      161      0      0.0      2   1     3       0\n",
    "4   62    0   0       138   294    1        1      106      0      1.9      1   3     2       0\n",
    "\n",
    "Missing Values:\n",
    " age         0\n",
    "sex         0\n",
    "cp          0\n",
    "trestbps    0\n",
    "chol        0\n",
    "fbs         0\n",
    "restecg     0\n",
    "thalach     0\n",
    "exang       0\n",
    "oldpeak     0\n",
    "slope       0\n",
    "ca          0\n",
    "thal        0\n",
    "target      0\n",
    "dtype: int64\n",
    "Logistic Regression Accuracy: 0.81\n",
    "Random Forest Accuracy: 1.00\n",
    "\n",
    "Best Model Metrics:\n",
    "Accuracy Score: 1.0\n",
    "Classification Report:\n",
    "               precision    recall  f1-score   support\n",
    "\n",
    "           0       1.00      1.00      1.00       100\n",
    "           1       1.00      1.00      1.00       105\n",
    "\n",
    "    accuracy                           1.00       205\n",
    "   macro avg       1.00      1.00      1.00       205\n",
    "weighted avg       1.00      1.00      1.00       205\n",
    "\n",
    "Confusion Matrix:\n",
    " [[100   0]\n",
    " [  0 105]]\n",
    "\n",
    "Prediction for New Data: At Risk of Heart Disease"
   ]
  }
 ],
 "metadata": {
  "kernelspec": {
   "display_name": "Python 3",
   "language": "python",
   "name": "python3"
  },
  "language_info": {
   "codemirror_mode": {
    "name": "ipython",
    "version": 3
   },
   "file_extension": ".py",
   "mimetype": "text/x-python",
   "name": "python",
   "nbconvert_exporter": "python",
   "pygments_lexer": "ipython3",
   "version": "3.10.0"
  }
 },
 "nbformat": 4,
 "nbformat_minor": 5
}
